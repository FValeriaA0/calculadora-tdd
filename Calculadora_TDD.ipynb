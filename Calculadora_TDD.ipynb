{
  "nbformat": 4,
  "nbformat_minor": 0,
  "metadata": {
    "colab": {
      "provenance": []
    },
    "kernelspec": {
      "name": "python3",
      "display_name": "Python 3"
    },
    "language_info": {
      "name": "python"
    }
  },
  "cells": [
    {
      "cell_type": "markdown",
      "source": [
        "####Crear clase Calculadora."
      ],
      "metadata": {
        "id": "XFPlnUe5R0p9"
      }
    },
    {
      "cell_type": "code",
      "source": [
        "class Calculadora:\n",
        "    def suma(self, a, b):\n",
        "        return a + b\n",
        "\n",
        "    def resta(self, a, b):\n",
        "        return a - b\n",
        "\n",
        "    def multiplicacion(self, a, b):\n",
        "        return a * b\n",
        "\n",
        "    def division(self, a, b):\n",
        "        if b == 0:\n",
        "            raise ValueError(\"No se puede dividir entre cero\")\n",
        "        return a / b\n",
        "\n",
        "    def raiz_cuadrada(self, x):\n",
        "        if x < 0:\n",
        "            raise ValueError(\"No se puede calcular la raíz de un número negativo\")\n",
        "        guess = x / 2.0\n",
        "        for _ in range(20):\n",
        "            guess = (guess + x / guess) / 2.0\n",
        "        return guess\n",
        "\n",
        "    def exponencial(self, x):\n",
        "        suma = 1.0\n",
        "        termino = 1.0\n",
        "        for i in range(1, 20):\n",
        "            termino *= x / i\n",
        "            suma += termino\n",
        "        return suma\n"
      ],
      "metadata": {
        "id": "irKz2Wu_R0CQ"
      },
      "execution_count": 3,
      "outputs": []
    },
    {
      "cell_type": "markdown",
      "source": [
        "####Escribir las pruebas."
      ],
      "metadata": {
        "id": "XmV1h6g8SC5f"
      }
    },
    {
      "cell_type": "code",
      "source": [
        "import unittest\n",
        "\n",
        "class TestCalculadora(unittest.TestCase):\n",
        "    def setUp(self):\n",
        "        self.calc = Calculadora()\n",
        "\n",
        "    def test_suma(self):\n",
        "        self.assertEqual(self.calc.suma(2, 3), 5)\n",
        "\n",
        "    def test_resta(self):\n",
        "        self.assertEqual(self.calc.resta(5, 2), 3)\n",
        "\n",
        "    def test_multiplicacion(self):\n",
        "        self.assertEqual(self.calc.multiplicacion(3, 4), 12)\n",
        "\n",
        "    def test_division(self):\n",
        "        self.assertEqual(self.calc.division(10, 2), 5)\n",
        "\n",
        "    def test_raiz_cuadrada(self):\n",
        "        self.assertAlmostEqual(self.calc.raiz_cuadrada(9), 3, places=3)\n",
        "\n",
        "    def test_exponencial(self):\n",
        "        self.assertAlmostEqual(self.calc.exponencial(1), 2.718, places=3)\n",
        "\n",
        "# Ejecutar\n",
        "suite = unittest.TestLoader().loadTestsFromTestCase(TestCalculadora)\n",
        "unittest.TextTestRunner(verbosity=2).run(suite)\n"
      ],
      "metadata": {
        "colab": {
          "base_uri": "https://localhost:8080/"
        },
        "id": "DPWTiDeYSGF7",
        "outputId": "4a9fdafa-22de-4dec-e8c1-df02bf73b988"
      },
      "execution_count": 4,
      "outputs": [
        {
          "output_type": "stream",
          "name": "stderr",
          "text": [
            "test_division (__main__.TestCalculadora.test_division) ... ok\n",
            "test_exponencial (__main__.TestCalculadora.test_exponencial) ... ok\n",
            "test_multiplicacion (__main__.TestCalculadora.test_multiplicacion) ... ok\n",
            "test_raiz_cuadrada (__main__.TestCalculadora.test_raiz_cuadrada) ... ok\n",
            "test_resta (__main__.TestCalculadora.test_resta) ... ok\n",
            "test_suma (__main__.TestCalculadora.test_suma) ... ok\n",
            "\n",
            "----------------------------------------------------------------------\n",
            "Ran 6 tests in 0.011s\n",
            "\n",
            "OK\n"
          ]
        },
        {
          "output_type": "execute_result",
          "data": {
            "text/plain": [
              "<unittest.runner.TextTestResult run=6 errors=0 failures=0>"
            ]
          },
          "metadata": {},
          "execution_count": 4
        }
      ]
    },
    {
      "cell_type": "markdown",
      "source": [
        "####Interfaz"
      ],
      "metadata": {
        "id": "eBTUhKfUT0tR"
      }
    },
    {
      "cell_type": "code",
      "source": [
        "calc = Calculadora()\n",
        "\n",
        "print(\"Bienvenida a la calculadora científica 🌟\\n\")\n",
        "print(\"Operaciones disponibles:\")\n",
        "print(\"1. Suma\")\n",
        "print(\"2. Resta\")\n",
        "print(\"3. Multiplicación\")\n",
        "print(\"4. División\")\n",
        "print(\"5. Raíz cuadrada\")\n",
        "print(\"6. Exponencial (e^x)\")\n",
        "\n",
        "op = input(\"Elige la operación (1-6): \")\n",
        "\n",
        "try:\n",
        "    if op in ['1', '2', '3', '4']:\n",
        "        a = float(input(\"Ingresa el primer número: \"))\n",
        "        b = float(input(\"Ingresa el segundo número: \"))\n",
        "        if op == '1':\n",
        "            resultado = calc.suma(a, b)\n",
        "        elif op == '2':\n",
        "            resultado = calc.resta(a, b)\n",
        "        elif op == '3':\n",
        "            resultado = calc.multiplicacion(a, b)\n",
        "        elif op == '4':\n",
        "            resultado = calc.division(a, b)\n",
        "    elif op == '5':\n",
        "        x = float(input(\"Ingresa el número para la raíz cuadrada: \"))\n",
        "        resultado = calc.raiz_cuadrada(x)\n",
        "    elif op == '6':\n",
        "        x = float(input(\"Ingresa el exponente x (para e^x): \"))\n",
        "        resultado = calc.exponencial(x)\n",
        "    else:\n",
        "        resultado = \"Opción inválida\"\n",
        "\n",
        "    print(f\"\\n✅ Resultado: {round(resultado, 4)}\")\n",
        "except Exception as e:\n",
        "    print(f\"❌ Error: {e}\")\n"
      ],
      "metadata": {
        "colab": {
          "base_uri": "https://localhost:8080/"
        },
        "id": "hVbPk1qWT2_v",
        "outputId": "ac0ec6d8-4bb8-410b-cf8e-2a1ace779b96"
      },
      "execution_count": 7,
      "outputs": [
        {
          "output_type": "stream",
          "name": "stdout",
          "text": [
            "Bienvenida a la calculadora científica 🌟\n",
            "\n",
            "Operaciones disponibles:\n",
            "1. Suma\n",
            "2. Resta\n",
            "3. Multiplicación\n",
            "4. División\n",
            "5. Raíz cuadrada\n",
            "6. Exponencial (e^x)\n",
            "Elige la operación (1-6): 6\n",
            "Ingresa el exponente x (para e^x): 6\n",
            "\n",
            "✅ Resultado: 403.4267\n"
          ]
        }
      ]
    }
  ]
}